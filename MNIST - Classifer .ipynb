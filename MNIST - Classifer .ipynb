{
 "cells": [
  {
   "cell_type": "markdown",
   "id": "aa8cdbd5",
   "metadata": {},
   "source": [
    "# Feathing Datasets"
   ]
  },
  {
   "cell_type": "code",
   "execution_count": 1,
   "id": "7054180a",
   "metadata": {},
   "outputs": [],
   "source": [
    "from sklearn.datasets import fetch_openml"
   ]
  },
  {
   "cell_type": "code",
   "execution_count": null,
   "id": "2212aa32",
   "metadata": {},
   "outputs": [],
   "source": [
    "mnist = fetch_openml('mnist_784')"
   ]
  },
  {
   "cell_type": "code",
   "execution_count": null,
   "id": "5b68b5ef",
   "metadata": {},
   "outputs": [],
   "source": [
    "x , y = mnist[\"data\"], mnist[\"target\"]"
   ]
  },
  {
   "cell_type": "code",
   "execution_count": null,
   "id": "0c466485",
   "metadata": {},
   "outputs": [],
   "source": [
    "x.shape"
   ]
  },
  {
   "cell_type": "code",
   "execution_count": null,
   "id": "d1e3d700",
   "metadata": {},
   "outputs": [],
   "source": [
    "y.shape"
   ]
  },
  {
   "cell_type": "code",
   "execution_count": null,
   "id": "c60550a3",
   "metadata": {},
   "outputs": [],
   "source": [
    "%matplotlib inline\n"
   ]
  },
  {
   "cell_type": "code",
   "execution_count": null,
   "id": "618cdc3b",
   "metadata": {},
   "outputs": [],
   "source": [
    "import matplotlib\n",
    "import matplotlib.pyplot as plt"
   ]
  },
  {
   "cell_type": "code",
   "execution_count": null,
   "id": "28ad8fbf",
   "metadata": {},
   "outputs": [],
   "source": [
    "some_digit = x.to_numpy()[36001]\n",
    "some_digit_image = some_digit.reshape(28,28)\n",
    "\n",
    "# lets reshape it to plot it"
   ]
  },
  {
   "cell_type": "code",
   "execution_count": null,
   "id": "ef5109db",
   "metadata": {},
   "outputs": [],
   "source": [
    "plt.imshow(some_digit_image , cmap=matplotlib.cm.binary, interpolation=\"nearest\")\n",
    "plt.axis(\"off\")"
   ]
  },
  {
   "cell_type": "code",
   "execution_count": null,
   "id": "e3a2a8e9",
   "metadata": {},
   "outputs": [],
   "source": [
    "y.to_numpy()[20000]"
   ]
  },
  {
   "cell_type": "code",
   "execution_count": null,
   "id": "9e589eef",
   "metadata": {},
   "outputs": [],
   "source": [
    "x_train , x_test = x[:6000], x[6000:7000]\n",
    "y_train , y_test = y[:6000], y[6000:7000]"
   ]
  },
  {
   "cell_type": "code",
   "execution_count": null,
   "id": "f7928bcb",
   "metadata": {},
   "outputs": [],
   "source": [
    "import numpy as np\n",
    "\n",
    "shuffle_index = np.random.permutation(6000)\n",
    "x_train,y_train = x_train.to_numpy()[shuffle_index], y_train.to_numpy()[shuffle_index]\n",
    "\n",
    "\n"
   ]
  },
  {
   "cell_type": "markdown",
   "id": "c13d296d",
   "metadata": {},
   "source": [
    "# Creating a 2 detector"
   ]
  },
  {
   "cell_type": "code",
   "execution_count": null,
   "id": "02e9c474",
   "metadata": {},
   "outputs": [],
   "source": [
    "y_train = y_train.astype(np.int8)\n",
    "y_test = y_test.astype(np.int8)\n",
    "\n",
    "y_train_2 = (y_train==2)\n",
    "y_test_2 = (y_test==2)"
   ]
  },
  {
   "cell_type": "code",
   "execution_count": null,
   "id": "d00b157d",
   "metadata": {},
   "outputs": [],
   "source": [
    "y_train"
   ]
  },
  {
   "cell_type": "code",
   "execution_count": null,
   "id": "c36058ac",
   "metadata": {},
   "outputs": [],
   "source": [
    "from sklearn.linear_model import LogisticRegression"
   ]
  },
  {
   "cell_type": "code",
   "execution_count": null,
   "id": "5d63ee8c",
   "metadata": {},
   "outputs": [],
   "source": [
    "clf = LogisticRegression(random_state=1)\n"
   ]
  },
  {
   "cell_type": "code",
   "execution_count": null,
   "id": "bfd66ffb",
   "metadata": {},
   "outputs": [],
   "source": [
    "clf.fit(x_train, y_train_2)"
   ]
  },
  {
   "cell_type": "code",
   "execution_count": null,
   "id": "44c2764a",
   "metadata": {},
   "outputs": [],
   "source": [
    "clf.predict([some_digit])"
   ]
  },
  {
   "cell_type": "code",
   "execution_count": null,
   "id": "59876f3f",
   "metadata": {},
   "outputs": [],
   "source": [
    "from sklearn.model_selection import cross_val_score\n",
    "a = cross_val_score(clf ,x_train ,y_train_2, cv=3, scoring=\"accuracy\")"
   ]
  },
  {
   "cell_type": "code",
   "execution_count": null,
   "id": "b4996f89",
   "metadata": {},
   "outputs": [],
   "source": [
    "a.mean()"
   ]
  },
  {
   "cell_type": "code",
   "execution_count": null,
   "id": "4af506ef",
   "metadata": {},
   "outputs": [],
   "source": []
  }
 ],
 "metadata": {
  "kernelspec": {
   "display_name": "Python 3 (ipykernel)",
   "language": "python",
   "name": "python3"
  },
  "language_info": {
   "codemirror_mode": {
    "name": "ipython",
    "version": 3
   },
   "file_extension": ".py",
   "mimetype": "text/x-python",
   "name": "python",
   "nbconvert_exporter": "python",
   "pygments_lexer": "ipython3",
   "version": "3.8.10"
  }
 },
 "nbformat": 4,
 "nbformat_minor": 5
}
